{
 "cells": [
  {
   "cell_type": "code",
   "execution_count": 1,
   "metadata": {},
   "outputs": [
    {
     "name": "stdout",
     "output_type": "stream",
     "text": [
      "Mutation Rate: 0.001, Crossover Rate: 0.7, Average Generations: 24.0\n",
      "Mutation Rate: 0.001, Crossover Rate: 0.5, Average Generations: 35.05\n",
      "Mutation Rate: 0.001, Crossover Rate: 0.3, Average Generations: 59.85\n",
      "Mutation Rate: 0.01, Crossover Rate: 0.7, Average Generations: 25.15\n",
      "Mutation Rate: 0.01, Crossover Rate: 0.5, Average Generations: 38.0\n",
      "Mutation Rate: 0.01, Crossover Rate: 0.3, Average Generations: 76.5\n",
      "Mutation Rate: 0.1, Crossover Rate: 0.7, Average Generations: 1203.4\n",
      "Mutation Rate: 0.1, Crossover Rate: 0.5, Average Generations: 1850.9\n",
      "Mutation Rate: 0.1, Crossover Rate: 0.3, Average Generations: 4443.6\n"
     ]
    }
   ],
   "source": [
    "import numpy as np\n",
    "\n",
    "def fitness_function(chromosome):\n",
    "      return sum(chromosome) / len(chromosome)\n",
    "\n",
    "def initialize_population(popSize, chromosome_length):\n",
    "      return [np.random.randint(0, 2, chromosome_length) for _ in range(popSize)]\n",
    "\n",
    "def roulette_wheel_selection(pop, fitness_values):\n",
    "      total_fitness = sum(fitness_values)\n",
    "      selection_probabilities = [fitness / total_fitness for fitness in fitness_values]\n",
    "      selected_index = np.random.choice(len(pop), p=selection_probabilities)\n",
    "      selected_chromosome = pop[selected_index]\n",
    "\n",
    "      return selected_chromosome\n",
    "     \n",
    "\n",
    "def single_point_crossover(parent1, parent2, crossover_rate):\n",
    "      if np.random.rand() < crossover_rate:\n",
    "          crossover_point = np.random.randint(1, len(parent1) - 1)\n",
    "          child1 = np.concatenate((parent1[:crossover_point], parent2[crossover_point:]))\n",
    "          child2 = np.concatenate((parent2[:crossover_point], parent1[crossover_point:]))\n",
    "          return child1, child2\n",
    "      else:\n",
    "          return parent1, parent2\n",
    "\n",
    "def bitwise_mutation(child, mutation_rate):\n",
    "      for i in range(len(child)):\n",
    "          if np.random.rand() < mutation_rate:\n",
    "              child[i] = 1 - child[i]\n",
    "      return child\n",
    "\n",
    "def genetic_algorithm(popSize, chromosome_length, crossover_rate, mutation_rate, runs):\n",
    "      generations_to_discovery = []\n",
    "\n",
    "      for run in range(runs):\n",
    "          pop = initialize_population(popSize, chromosome_length)\n",
    "          fitness_values = [fitness_function(chromosome) for chromosome in pop]\n",
    "          generation = 0\n",
    "\n",
    "          while max(fitness_values) < 1.0:\n",
    "              generation += 1\n",
    "              new_pop = []\n",
    "\n",
    "              for i in range(popSize // 2):\n",
    "                  parent1 = roulette_wheel_selection(pop, fitness_values)\n",
    "                  parent2 = roulette_wheel_selection(pop, fitness_values)\n",
    "                  child1, child2 = single_point_crossover(parent1, parent2, crossover_rate)\n",
    "                  child1 = bitwise_mutation(child1, mutation_rate)\n",
    "                  child2 = bitwise_mutation(child2, mutation_rate)\n",
    "                  new_pop.append(child1)\n",
    "                  new_pop.append(child2)\n",
    "\n",
    "              pop = new_pop\n",
    "              fitness_values = [fitness_function(chromosome) for chromosome in pop]\n",
    "\n",
    "          generations_to_discovery.append(generation)\n",
    "           \n",
    "      return np.mean(generations_to_discovery) \n",
    "\n",
    "# Perform experiments with different mutation and crossover rates\n",
    "mutation_rates = [0.001, 0.01, 0.1]\n",
    "crossover_rates = [0.7, 0.5, 0.3]\n",
    "runs = 20\n",
    "\n",
    "for mutation_rate in mutation_rates:\n",
    "    for crossover_rate in crossover_rates:\n",
    "        avg_generations = genetic_algorithm(100, 20, crossover_rate, mutation_rate, runs)\n",
    "        print(f\"Mutation Rate: {mutation_rate}, Crossover Rate: {crossover_rate}, Average Generations: {avg_generations}\")\n"
   ]
  }
 ],
 "metadata": {
  "kernelspec": {
   "display_name": "base",
   "language": "python",
   "name": "python3"
  },
  "language_info": {
   "codemirror_mode": {
    "name": "ipython",
    "version": 3
   },
   "file_extension": ".py",
   "mimetype": "text/x-python",
   "name": "python",
   "nbconvert_exporter": "python",
   "pygments_lexer": "ipython3",
   "version": "3.9.13"
  }
 },
 "nbformat": 4,
 "nbformat_minor": 2
}
