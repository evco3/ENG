{
 "cells": [
  {
   "cell_type": "markdown",
   "id": "cf798513",
   "metadata": {
    "id": "cf798513"
   },
   "source": [
    "# CISC/CMPE 452/COGS 400 Assignment 2 - Backpropagation (15 points)  \n",
    "\n",
    "Please put your name and student id here\n",
    "\n",
    "    Evan Cohen, #20214967\n",
    "\n",
    "- The notebook file has clearly marked blocks where you are expected to write code. Do not write or modify any code outside of these blocks.\n",
    "- Make sure to restart and run all the cells from the beginning before submission. Do not clear out the outputs. You will only get credit for code that has been run.\n",
    "- Mark will be deducted based on late policy (-1% of the course total marks per day after due date until the end date after which no assignments will be accepted)\n"
   ]
  },
  {
   "cell_type": "markdown",
   "id": "VRLNrFDU3dKp",
   "metadata": {
    "id": "VRLNrFDU3dKp"
   },
   "source": [
    "## [Part 1 (9 points)](#Part-1)  \n",
    "\n",
    "### Build Model1 (7 points)  \n",
    "Use Pytorch to implement a three-layer Neural Network (input layer - hidden layer - output layer) and update the weights with backpropagation  \n",
    "- 1. Implement forward and calculate the output (1 point)  \n",
    "- 2. Calculate errors and loss (3 points)  \n",
    "- 3. Update the weights with backpropagation (1 points)  \n",
    "- 4. Predict function (1 point)  \n",
    "- 5. Activation function (Sigmoid function) (1 point)  \n",
    "\n",
    "### Evaluator Function (1 point)  \n",
    "Implement the evaluator function with Pytorch or Numpy only   \n",
    "- Evaluation metrics include confusion matrix, accuracy, recall score, precision and F1 score\n",
    "\n",
    "### Train and Evaluate Model1 (1 point)  \n",
    "Train Model1 with customized hidden size, learning rate, number of iterations and batch size  \n",
    "Use the predict function to predict the labels with the test dataset  \n",
    "Evaluate the prediction results  \n",
    "- Evaluation metrics include confusion matrix, accuracy, recall score, precision and F1 score\n",
    "\n",
    "## [Part 2 (6 points)](#Part-2)  \n",
    "\n",
    "Use another machine learning framework (**scikit-learn, Tensorflow and Pytorch**) to build MLP\n",
    "e.g. \n",
    "  1. https://scikit-learn.org/stable/modules/generated/sklearn.neural_network.MLPClassifier.html\n",
    "  2. https://www.tensorflow.org/api_docs/python/tf/keras/Sequential\n",
    "  3. https://pytorch.org/tutorials/beginner/examples_nn/polynomial_nn.html#sphx-glr-beginner-examples-nn-polynomial-nn-py\n",
    "  \n",
    "### Build Model2-1 (2 points)  \n",
    "Implement Model2-1 with the same hidden nodes and optimization function as the model in Part 1  \n",
    "Train and validate model. Use the best model on validation dataset to test on the test dataset  \n",
    "\n",
    "### Train and Evaluate Model2-1 (1 point)\n",
    "Evaluate the prediction results  \n",
    "- Evaluation metrics include confusion matrix, accuracy, recall score, precision and F1 score\n",
    "\n",
    "### Build Model2-2 (2 points)  \n",
    "Add one more hidden layer (2 hidden layers in total) to the model  \n",
    "Describe Model2-2 (number of hidden nodes)  \n",
    "Train and validate model. Use the best model on validation dataset to test on the test dataset  \n",
    "\n",
    "### Train and Evaluate Model2-2 (1 point)\n",
    "Evaluate the prediction results  \n",
    "- Evaluation metrics include confusion matrix, accuracy, recall score, precision and F1 score"
   ]
  },
  {
   "cell_type": "code",
   "execution_count": 45,
   "id": "b7e6a263",
   "metadata": {
    "id": "b7e6a263"
   },
   "outputs": [],
   "source": [
    "import torch\n",
    "import matplotlib.pyplot as plt\n",
    "from torchvision.datasets import MNIST\n",
    "import numpy as np"
   ]
  },
  {
   "cell_type": "code",
   "execution_count": 46,
   "id": "eKE_KANU7_sq",
   "metadata": {
    "colab": {
     "base_uri": "https://localhost:8080/"
    },
    "id": "eKE_KANU7_sq",
    "outputId": "946cd1ab-22bd-4efa-c734-faab97e6f40d"
   },
   "outputs": [
    {
     "data": {
      "text/plain": [
       "device(type='cpu')"
      ]
     },
     "execution_count": 46,
     "metadata": {},
     "output_type": "execute_result"
    }
   ],
   "source": [
    "# you can go to Edit - Notebook settings to select GPU under the Hardware accelerator\n",
    "# check the device\n",
    "device = torch.device('cuda' if torch.cuda.is_available() else 'cpu')\n",
    "device\n",
    "\n",
    "\n"
   ]
  },
  {
   "cell_type": "code",
   "execution_count": 47,
   "id": "9a5cbc46",
   "metadata": {
    "id": "9a5cbc46"
   },
   "outputs": [],
   "source": [
    "# build the dataset (train, validation and test)\n",
    "def load_MNIST(n_val=10000, n_sample=1000, sample=False):\n",
    "    n_val = n_val\n",
    "    n_sample = n_sample\n",
    "    train = MNIST(root = '.', train = True, download = True)\n",
    "    test = MNIST(root = '.', train = False, download = True)\n",
    "    \n",
    "    # data preprocessing\n",
    "    x_train, x_test = train.data/255, test.data/255\n",
    "    x_train = x_train.reshape(x_train.shape[0], -1)\n",
    "    x_test = x_test.reshape(x_test.shape[0], -1)\n",
    "    y_train = torch.nn.functional.one_hot(train.targets)\n",
    "    y_test = torch.nn.functional.one_hot(test.targets)\n",
    "\n",
    "    data_dict = {}\n",
    "    if sample:\n",
    "        data_dict['x_train'] = x_train[:-n_val][:n_sample]\n",
    "        data_dict['y_train'] = y_train[:-n_val][:n_sample]\n",
    "        data_dict['x_val'] = x_train[-n_val:][:n_sample//10]\n",
    "        data_dict['y_val'] = y_train[-n_val:][:n_sample//10]\n",
    "        data_dict['x_test'] = x_test[:n_sample//10]\n",
    "        data_dict['y_test'] = y_test[:n_sample//10]\n",
    "    else:\n",
    "        data_dict['x_train'] = x_train[:-n_val]\n",
    "        data_dict['y_train'] = y_train[:-n_val]\n",
    "        data_dict['x_val'] = x_train[-n_val:]\n",
    "        data_dict['y_val'] = y_train[-n_val:]\n",
    "        data_dict['x_test'] = x_test\n",
    "        data_dict['y_test'] = y_test\n",
    "    return data_dict"
   ]
  },
  {
   "cell_type": "code",
   "execution_count": 48,
   "id": "Q5G-vmpD21Bj",
   "metadata": {
    "colab": {
     "base_uri": "https://localhost:8080/",
     "height": 573
    },
    "id": "Q5G-vmpD21Bj",
    "outputId": "f053f294-9aad-4097-f75e-aaed70dd050e"
   },
   "outputs": [
    {
     "name": "stdout",
     "output_type": "stream",
     "text": [
      "Train data shape: torch.Size([50000, 784])\n",
      "Train labels shape: torch.Size([50000, 10])\n",
      "Validation data shape: torch.Size([10000, 784])\n",
      "Validation labels shape: torch.Size([10000, 10])\n",
      "Test data shape: torch.Size([10000, 784])\n",
      "Test labels shape: torch.Size([10000, 10])\n"
     ]
    }
   ],
   "source": [
    "# you can start with a small sample dataset by setting sample=True\n",
    "data_dict = load_MNIST(sample=False)\n",
    "print('Train data shape:', data_dict['x_train'].shape)\n",
    "print('Train labels shape:', data_dict['y_train'].shape)\n",
    "print('Validation data shape:', data_dict['x_val'].shape)\n",
    "print('Validation labels shape:', data_dict['y_val'].shape)\n",
    "print('Test data shape:', data_dict['x_test'].shape)\n",
    "print('Test labels shape:', data_dict['y_test'].shape)"
   ]
  },
  {
   "cell_type": "code",
   "execution_count": 49,
   "id": "1aa9f016",
   "metadata": {
    "colab": {
     "base_uri": "https://localhost:8080/",
     "height": 281
    },
    "id": "1aa9f016",
    "outputId": "83a4195e-8fb9-4850-8a9a-7c3bbc2bb623",
    "scrolled": false
   },
   "outputs": [
    {
     "data": {
      "image/png": "[encoded data removed]",
      "text/plain": [
       "<Figure size 640x480 with 1 Axes>"
      ]
     },
     "metadata": {},
     "output_type": "display_data"
    }
   ],
   "source": [
    "# plot an example\n",
    "plt.imshow(data_dict['x_train'][0].reshape(28, 28))\n",
    "plt.title(data_dict['y_train'][0].argmax().item())\n",
    "plt.show()"
   ]
  },
  {
   "cell_type": "code",
   "execution_count": 50,
   "id": "6291c647",
   "metadata": {
    "id": "6291c647"
   },
   "outputs": [],
   "source": [
    "def evaluator(y_test,y_pred):\n",
    "    ##################################################################################################\n",
    "    #enter code here to implement the evaluation metrics including confusion matrix, accuracy, precision and recall\n",
    "    #you can only use Numpy or Pytorch to implement the metrics\n",
    "    \n",
    "    #calculate confusion_matrix using pytorch or numpy\n",
    "    #calculate accuracy using pytorch or numpy\n",
    "    #calculate precision using pytorch or numpy\n",
    "    #calculate recall using pytorch or numpy\n",
    "    #print the evaluation results\n",
    "    ####################################################################################################\n",
    "    if(torch.is_tensor(y_test)):\n",
    "        y_test = y_test.cpu().numpy()    \n",
    "   \n",
    "    \n",
    "    if(torch.is_tensor(y_pred)):\n",
    "        y_pred = y_pred.cpu().numpy()\n",
    "    \n",
    "       \n",
    "    \n",
    "    #Calculate matrix\n",
    "    labels = np.unique(np.concatenate((y_test, y_pred)))\n",
    "    confusion_matrix = np.zeros((len(labels), len(labels)), dtype=int)\n",
    "    total_predictions = np.sum(confusion_matrix)\n",
    "\n",
    "    # Populate the confusion matrix based on true and predicted labels\n",
    "    for i in range(len(y_test)):\n",
    "        c_test = np.where(labels == y_test[i])[0][0]\n",
    "        c_pred = np.where(labels == y_pred[i])[0][0]\n",
    "        confusion_matrix[c_test, c_pred] += 1\n",
    "\n",
    "    #Calculate overall accuracy\n",
    "    correct = np.sum(np.diag(confusion_matrix))\n",
    "    total = np.sum(confusion_matrix)\n",
    "    accuracy = correct / total\n",
    "\n",
    "\n",
    "\n",
    "    # Calculate precision and recall\n",
    "    precision = np.zeros(len(labels))\n",
    "    recall = np.zeros(len(labels))\n",
    "\n",
    "    for i in range(len(labels)):\n",
    "        precision[i] = confusion_matrix[i, i] / np.sum(confusion_matrix[:, i])\n",
    "        recall[i] = confusion_matrix[i, i] / np.sum(confusion_matrix[i, :])\n",
    "\n",
    "\n",
    "        \n",
    "    \n",
    "     # Calculate Average F1 Score\n",
    "    f1 = np.zeros(len(labels), dtype=np.float32)\n",
    "    for i in range(len(labels)):\n",
    "        if precision[i] + recall[i] == 0:\n",
    "            f1[i] = 0.0\n",
    "        else:\n",
    "            f1[i] = 2 * (precision[i] * recall[i]) / (precision[i] + recall[i])\n",
    "    \n",
    "   \n",
    "   #calculate averaged metrics\n",
    "    accuracy = np.mean(accuracy)\n",
    "    precision = np.mean(precision)\n",
    "    recall = np.mean(recall)\n",
    "    f1 = np.mean(f1)\n",
    "    \n",
    "    return confusion_matrix, accuracy, precision, recall, f1\n",
    "\n",
    "\n",
    "####################################################################################################"
   ]
  },
  {
   "cell_type": "markdown",
   "id": "4e4a6b06",
   "metadata": {
    "id": "4e4a6b06"
   },
   "source": [
    "## Part 1"
   ]
  },
  {
   "cell_type": "code",
   "execution_count": 51,
   "id": "a0d3fc2d",
   "metadata": {
    "id": "a0d3fc2d"
   },
   "outputs": [],
   "source": [
    "class NN(object):\n",
    "    def __init__(self, learning_rate, n_iters, batch_size, hidden_size, device, dtype=torch.float32):\n",
    "        self.learning_rate = learning_rate\n",
    "        self.n_iters = n_iters\n",
    "        self.batch_size = batch_size\n",
    "        self.hidden_size = hidden_size\n",
    "        self.device = device\n",
    "        self.dtype = dtype\n",
    "        self.history = {}\n",
    "        self.history['train_acc'], self.history['val_acc'], self.history['loss'] = [], [], []\n",
    "    \n",
    "    # 5. activation function\n",
    "    def sigmoid(self, x):\n",
    "        ####################################################################################################\n",
    "        # enter code here to implement the activation function\n",
    "        fx = 1 / (1 + torch.exp(-x))\n",
    "        return fx\n",
    "        \n",
    "        ####################################################################################################\n",
    "\n",
    "    def train(self, x, y, x_val, y_val, verbose=1):\n",
    "        n_train = x.shape[0]\n",
    "        n_val = x_val.shape[0]\n",
    "        input_size = x.shape[1]\n",
    "        num_classes = y.shape[1]\n",
    "        \n",
    "        # weight initialization\n",
    "        self.W1 = torch.randn(input_size, self.hidden_size, dtype=self.dtype, device=self.device) * 0.01\n",
    "        self.W2 = torch.randn(self.hidden_size, num_classes, dtype=self.dtype, device=self.device) * 0.01\n",
    "\n",
    "        # TODO: train the weights with the input data and labels\n",
    "        for i in range(self.n_iters):\n",
    "            loss = 0\n",
    "            data = getBatch(x, y, self.batch_size)\n",
    "            for x_batch, y_batch in data:\n",
    "                # 1. forward\n",
    "                ####################################################################################################\n",
    "                # enter code here to calculate the hidden layer output and output layer output\n",
    "                hidden = self.sigmoid(torch.mm(x_batch, self.W1))\n",
    "                output = self.sigmoid(torch.mm(hidden, self.W2))\n",
    "                ####################################################################################################\n",
    "\n",
    "                # 2. error and loss\n",
    "                ####################################################################################################\n",
    "                # enter code here to calculate the output error, MSE loss, delta output and delta hidden\n",
    "                output_error = y_batch - output\n",
    "                loss += torch.sum(output_error**2) / self.batch_size\n",
    "                delta_output = output_error*(output - output**2)\n",
    "                delta_hidden = torch.mm(delta_output, self.W2.T) * hidden * (1 - hidden)\n",
    "                ####################################################################################################\n",
    "\n",
    "                # 3. backward\n",
    "                ####################################################################################################\n",
    "                # enter code here to calculate delta weights and update the weights\n",
    "                w1 = self.learning_rate * torch.mm(x_batch.T, delta_hidden)\n",
    "                w2 = self.learning_rate * torch.mm(hidden.T, delta_output)\n",
    "\n",
    "                self.W1 += w1\n",
    "                self.W2 += w2\n",
    "                ####################################################################################################\n",
    "\n",
    "            # calculate the accuracy and save the training history\n",
    "            y_pred = self.predict(x)\n",
    "            train_acc = torch.sum(torch.argmax(y, dim=1) == y_pred) / n_train\n",
    "            self.history['train_acc'].append(train_acc)\n",
    "            self.history['loss'].append(loss)\n",
    "            \n",
    "            y_pred = self.predict(x_val)\n",
    "            val_acc = torch.sum(torch.argmax(y_val, dim=1) == y_pred) / n_val\n",
    "            self.history['val_acc'].append(val_acc)\n",
    "            if verbose:\n",
    "                print('epoch %d, loss %.4f, train acc %.3f, validation acc %.3f'\n",
    "                  % (i + 1, loss, train_acc, val_acc))\n",
    "    \n",
    "    # 4. predict function \n",
    "    def predict(self, x):\n",
    "        ####################################################################################################\n",
    "        # enter code here to implement the predict function\n",
    "        # TODO: use the trained weights to predict labels and return the predicted labels\n",
    "        # remember to use torch.argmax() to return the true labels\n",
    "        hidden = self.sigmoid(torch.matmul(x, self.W1))\n",
    "        output = self.sigmoid(torch.matmul(hidden, self.W2))\n",
    "        y_pred = torch.argmax(output, dim=1)\n",
    "\n",
    "        return y_pred     \n",
    "        ####################################################################################################\n",
    "\n",
    "def getBatch(x, y, batch_size):\n",
    "    n_epoch = x.shape[0] // batch_size\n",
    "    for i in range(n_epoch):\n",
    "        x_batch = x[i * batch_size : (i+1) * batch_size]\n",
    "        y_batch = y[i * batch_size : (i+1) * batch_size]\n",
    "        yield x_batch, y_batch\n",
    "    x_batch = x[(i+1) * batch_size:]\n",
    "    y_batch = y[(i+1) * batch_size:]    \n",
    "    yield x_batch, y_batch"
   ]
  },
  {
   "cell_type": "code",
   "execution_count": 52,
   "id": "74e9819c",
   "metadata": {
    "colab": {
     "base_uri": "https://localhost:8080/"
    },
    "id": "74e9819c",
    "outputId": "c6b1745f-4e19-4f83-afb7-c22f07062738"
   },
   "outputs": [
    {
     "name": "stdout",
     "output_type": "stream",
     "text": [
      "epoch 1, loss 344.5908, train acc 0.823, validation acc 0.842\n",
      "epoch 2, loss 138.7394, train acc 0.887, validation acc 0.900\n",
      "epoch 3, loss 101.3030, train acc 0.901, validation acc 0.913\n",
      "epoch 4, loss 88.0134, train acc 0.909, validation acc 0.919\n",
      "epoch 5, loss 80.0062, train acc 0.915, validation acc 0.923\n",
      "epoch 6, loss 74.0985, train acc 0.921, validation acc 0.927\n",
      "epoch 7, loss 69.3407, train acc 0.925, validation acc 0.931\n",
      "epoch 8, loss 65.3472, train acc 0.929, validation acc 0.936\n",
      "epoch 9, loss 61.9082, train acc 0.933, validation acc 0.939\n",
      "epoch 10, loss 58.8774, train acc 0.936, validation acc 0.942\n",
      "epoch 11, loss 56.1662, train acc 0.938, validation acc 0.945\n",
      "epoch 12, loss 53.7360, train acc 0.941, validation acc 0.947\n",
      "epoch 13, loss 51.5468, train acc 0.944, validation acc 0.949\n",
      "epoch 14, loss 49.5570, train acc 0.946, validation acc 0.952\n",
      "epoch 15, loss 47.7337, train acc 0.948, validation acc 0.953\n",
      "epoch 16, loss 46.0525, train acc 0.950, validation acc 0.954\n",
      "epoch 17, loss 44.4940, train acc 0.952, validation acc 0.956\n",
      "epoch 18, loss 43.0413, train acc 0.953, validation acc 0.956\n",
      "epoch 19, loss 41.6808, train acc 0.955, validation acc 0.958\n",
      "epoch 20, loss 40.4018, train acc 0.956, validation acc 0.960\n",
      "epoch 21, loss 39.1959, train acc 0.957, validation acc 0.960\n",
      "epoch 22, loss 38.0566, train acc 0.959, validation acc 0.961\n",
      "epoch 23, loss 36.9778, train acc 0.960, validation acc 0.962\n",
      "epoch 24, loss 35.9541, train acc 0.962, validation acc 0.963\n",
      "epoch 25, loss 34.9805, train acc 0.963, validation acc 0.964\n"
     ]
    }
   ],
   "source": [
    "####################################################################################################\n",
    "# enter code here to train Model1\n",
    "# TODO: set your desired hidden size, learning rate, number of iterations and batch size\n",
    "# remeber to load the dataset to the device (e.g. data_dict['x_train'].to(device))\n",
    "model = NN(learning_rate=0.01, n_iters=25, batch_size=100, hidden_size=200, device=device)\n",
    "model.train(data_dict['x_train'].to(device), data_dict['y_train'].to(device), data_dict['x_val'].to(device), data_dict['y_val'].to(device), verbose=1)\n",
    "\n",
    "\n",
    "\n",
    "####################################################################################################"
   ]
  },
  {
   "cell_type": "code",
   "execution_count": 53,
   "id": "bebd0600",
   "metadata": {
    "colab": {
     "base_uri": "https://localhost:8080/",
     "height": 265
    },
    "id": "bebd0600",
    "outputId": "4cf59edb-b5bd-417c-913f-78b5a793189f"
   },
   "outputs": [
    {
     "data": {
      "image/png": "[encoded data removed]",
      "text/plain": [
       "<Figure size 640x480 with 1 Axes>"
      ]
     },
     "metadata": {},
     "output_type": "display_data"
    }
   ],
   "source": [
    "plt.plot(model.history['train_acc'], label='train_acc')\n",
    "plt.plot(model.history['val_acc'], label='val_acc')\n",
    "plt.legend()\n",
    "plt.show()"
   ]
  },
  {
   "cell_type": "code",
   "execution_count": 54,
   "id": "UQciuqY96_6Z",
   "metadata": {
    "colab": {
     "base_uri": "https://localhost:8080/"
    },
    "id": "UQciuqY96_6Z",
    "outputId": "0aff8095-e7a6-4558-f99c-36d2512488f7"
   },
   "outputs": [
    {
     "name": "stdout",
     "output_type": "stream",
     "text": [
      "Confusion Matrix:\n",
      " [[ 964    0    0    2    0    3    7    1    2    1]\n",
      " [   0 1114    3    2    0    1    5    2    8    0]\n",
      " [   5    0  988    4    5    3    5    9   11    2]\n",
      " [   0    0    9  970    2    7    1    9    8    4]\n",
      " [   2    1    3    0  929    0   11    3    3   30]\n",
      " [   7    1    2   12    2  837   14    1   10    6]\n",
      " [  10    3    0    2    4    7  928    0    4    0]\n",
      " [   2   10   18    4    3    0    0  973    1   17]\n",
      " [   5    2    3    8    5    4    7    3  934    3]\n",
      " [   6    6    1    9   12    3    1    8    5  958]]\n",
      "Accuracy: 0.9595\n",
      "Precision: 0.9593\n",
      "Recall: 0.9591\n",
      "F1: 0.9591\n"
     ]
    }
   ],
   "source": [
    "####################################################################################################\n",
    "# enter code here to evaluate Model1 with test set\n",
    "# TODO: use the trained Model1 to predict the labels of test set and evaluate the results with the evaluator\n",
    "y_pred = model.predict(data_dict['x_test'].to(device))\n",
    "confusion, accuracy, precision, recall, f1 = evaluator(data_dict['y_test'].argmax(dim=1), y_pred)\n",
    "\n",
    "#averaged outputs\n",
    "print(\"Confusion Matrix:\\n\", confusion)\n",
    "print(\"Accuracy:\", round(accuracy,4))\n",
    "print(\"Precision:\", round(precision,4))\n",
    "print(\"Recall:\", round(recall,4))\n",
    "print(\"F1:\", round(f1,4))\n",
    "####################################################################################################"
   ]
  },
  {
   "cell_type": "code",
   "execution_count": null,
   "id": "bhkkGjWwxlLJ",
   "metadata": {
    "id": "bhkkGjWwxlLJ"
   },
   "outputs": [],
   "source": []
  },
  {
   "cell_type": "markdown",
   "id": "QG_rb7uJ4XDL",
   "metadata": {
    "id": "QG_rb7uJ4XDL"
   },
   "source": [
    "## Part 2"
   ]
  },
  {
   "cell_type": "markdown",
   "id": "a5c845a9",
   "metadata": {},
   "source": [
    "### Model2-1"
   ]
  },
  {
   "cell_type": "code",
   "execution_count": 55,
   "id": "13519996",
   "metadata": {},
   "outputs": [],
   "source": [
    "####################################################################################################\n",
    "# enter code here to implement Model2-1\n",
    "from sklearn.neural_network import MLPClassifier\n",
    "\n",
    "model = MLPClassifier(max_iter=10, hidden_layer_sizes=(100), activation='logistic')\n",
    "####################################################################################################"
   ]
  },
  {
   "cell_type": "code",
   "execution_count": 56,
   "id": "208a8e33",
   "metadata": {},
   "outputs": [
    {
     "name": "stderr",
     "output_type": "stream",
     "text": [
      "/Users/evancohen/opt/anaconda3/lib/python3.9/site-packages/sklearn/neural_network/_multilayer_perceptron.py:692: ConvergenceWarning: Stochastic Optimizer: Maximum iterations (10) reached and the optimization hasn't converged yet.\n",
      "  warnings.warn(\n"
     ]
    },
    {
     "data": {
      "text/plain": [
       "MLPClassifier(activation='logistic', hidden_layer_sizes=100, max_iter=10)"
      ]
     },
     "execution_count": 56,
     "metadata": {},
     "output_type": "execute_result"
    }
   ],
   "source": [
    "####################################################################################################\n",
    "# enter code here to train Model2-1\n",
    "model.fit(data_dict['x_train'], data_dict['y_train'].argmax(axis=1))\n",
    "\n",
    "\n",
    "####################################################################################################"
   ]
  },
  {
   "cell_type": "code",
   "execution_count": 57,
   "id": "f61594f0",
   "metadata": {},
   "outputs": [
    {
     "name": "stdout",
     "output_type": "stream",
     "text": [
      "Confusion Matrix:\n",
      " [[ 965    0    1    1    0    2    9    1    1    0]\n",
      " [   0 1115    3    2    1    1    4    2    7    0]\n",
      " [   6    1  985    4    5    2   10    7   11    1]\n",
      " [   1    1   14  963    0    6    2   10   11    2]\n",
      " [   1    0    4    0  948    0    9    2    2   16]\n",
      " [   7    1    1   15    3  835   13    2   10    5]\n",
      " [   7    3    1    0    4    8  931    1    3    0]\n",
      " [   1    5   19    4    6    1    0  975    0   17]\n",
      " [   5    2    5   14    8    5    8    7  916    4]\n",
      " [   7    6    1   10   25    6    1    9    4  940]]\n",
      "Accuracy: 0.9573\n",
      "Precision: 0.957\n",
      "Recall: 0.9569\n",
      "F1: 0.9569\n"
     ]
    }
   ],
   "source": [
    "####################################################################################################\n",
    "# enter code here to evaluate Model2-1\n",
    "y_pred = model.predict(data_dict['x_test'])\n",
    "confusion, accuracy, precision, recall, f1 = evaluator(data_dict['y_test'].argmax(dim=1), y_pred)\n",
    "\n",
    "#averaged outputs\n",
    "print(\"Confusion Matrix:\\n\", confusion)\n",
    "print(\"Accuracy:\", round(accuracy,4))\n",
    "print(\"Precision:\", round(precision,4))\n",
    "print(\"Recall:\", round(recall,4))\n",
    "print(\"F1:\", round(f1,4))\n",
    "####################################################################################################"
   ]
  },
  {
   "cell_type": "markdown",
   "id": "c4a9243f",
   "metadata": {},
   "source": [
    "### Model2-2"
   ]
  },
  {
   "cell_type": "code",
   "execution_count": 58,
   "id": "0eaf38a5",
   "metadata": {},
   "outputs": [],
   "source": [
    "####################################################################################################\n",
    "# enter code here to implement Model2-2\n",
    "model = MLPClassifier(max_iter=10, hidden_layer_sizes=(100, 100), activation='logistic')\n",
    "\n",
    "####################################################################################################"
   ]
  },
  {
   "cell_type": "code",
   "execution_count": 59,
   "id": "090300ae",
   "metadata": {},
   "outputs": [
    {
     "name": "stderr",
     "output_type": "stream",
     "text": [
      "/Users/evancohen/opt/anaconda3/lib/python3.9/site-packages/sklearn/neural_network/_multilayer_perceptron.py:692: ConvergenceWarning: Stochastic Optimizer: Maximum iterations (10) reached and the optimization hasn't converged yet.\n",
      "  warnings.warn(\n"
     ]
    },
    {
     "data": {
      "text/plain": [
       "MLPClassifier(activation='logistic', hidden_layer_sizes=(100, 100), max_iter=10)"
      ]
     },
     "execution_count": 59,
     "metadata": {},
     "output_type": "execute_result"
    }
   ],
   "source": [
    "####################################################################################################\n",
    "# enter code here to train Model2-2\n",
    "model.fit(data_dict['x_train'], data_dict['y_train'].argmax(axis=1))\n",
    "\n",
    "####################################################################################################"
   ]
  },
  {
   "cell_type": "code",
   "execution_count": 60,
   "id": "ca87daf8",
   "metadata": {},
   "outputs": [
    {
     "name": "stdout",
     "output_type": "stream",
     "text": [
      "Confusion Matrix:\n",
      " [[ 971    0    0    2    0    2    2    1    1    1]\n",
      " [   0 1120    2    1    0    1    3    1    7    0]\n",
      " [   5    2  989    5    6    1    6    6   11    1]\n",
      " [   0    0    7  974    0    6    0    7   15    1]\n",
      " [   1    1    7    1  937    0    4    2    3   26]\n",
      " [   4    1    0   14    2  846    7    1   12    5]\n",
      " [   9    3    1    1    4    9  925    0    6    0]\n",
      " [   2    8   13    5    0    0    0  977    2   21]\n",
      " [   6    1    2   10    3    4    5    4  937    2]\n",
      " [   4    5    1   10   10    2    1    4    7  965]]\n",
      "Accuracy: 0.9641\n",
      "Precision: 0.9641\n",
      "Recall: 0.9637\n",
      "F1: 0.9638\n"
     ]
    }
   ],
   "source": [
    "####################################################################################################\n",
    "# enter code here to evaluate Model2-2\n",
    "y_pred = model.predict(data_dict['x_test'].numpy())\n",
    "confusion, accuracy, precision, recall, f1 = evaluator(data_dict['y_test'].argmax(dim=1), y_pred)\n",
    "\n",
    "#averaged outputs\n",
    "print(\"Confusion Matrix:\\n\", confusion)\n",
    "print(\"Accuracy:\", round(accuracy,4))\n",
    "print(\"Precision:\", round(precision,4))\n",
    "print(\"Recall:\", round(recall,4))\n",
    "print(\"F1:\", round(f1,4))\n",
    "\n",
    "####################################################################################################"
   ]
  }
 ],
 "metadata": {
  "accelerator": "GPU",
  "colab": {
   "collapsed_sections": [],
   "name": "A2_solution.ipynb",
   "provenance": []
  },
  "kernelspec": {
   "display_name": "Python 3.8.9 64-bit",
   "language": "python",
   "name": "python3"
  },
  "language_info": {
   "codemirror_mode": {
    "name": "ipython",
    "version": 3
   },
   "file_extension": ".py",
   "mimetype": "text/x-python",
   "name": "python",
   "nbconvert_exporter": "python",
   "pygments_lexer": "ipython3",
   "version": "3.9.13"
  },
  "vscode": {
   "interpreter": {
    "hash": "31f2aee4e71d21fbe5cf8b01ff0e069b9275f58929596ceb00d14d90e3e16cd6"
   }
  }
 },
 "nbformat": 4,
 "nbformat_minor": 5
}
